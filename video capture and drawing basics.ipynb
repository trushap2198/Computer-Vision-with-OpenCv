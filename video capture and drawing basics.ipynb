{
 "cells": [
  {
   "cell_type": "code",
   "execution_count": 2,
   "metadata": {},
   "outputs": [],
   "source": [
    "import cv2"
   ]
  },
  {
   "cell_type": "code",
   "execution_count": 21,
   "metadata": {},
   "outputs": [],
   "source": []
  },
  {
   "cell_type": "code",
   "execution_count": 53,
   "metadata": {},
   "outputs": [],
   "source": [
    "cap=cv2.VideoCapture(0)\n",
    "width=int(cap.get(cv2.CAP_PROP_FRAME_WIDTH))\n",
    "hei=int(cap.get(cv2.CAP_PROP_FRAME_HEIGHT))\n",
    "# to saev the stream\n",
    "#AS WINDOWS Divx codec \n",
    "writer=cv2.VideoWriter('myvid.mp4',cv2.VideoWriter_fourcc(*'DIVX'),30,(width,hei))\n",
    "#api preference is imp\n",
    "#decreasing fps slows the video\n",
    "#like you see fast motion on 300 and slow on 3\n",
    "while True:\n",
    "    ret,frame=cap.read()#retruns a series of image of the videos in form of frames\n",
    "    #we can uodate frames\n",
    "   # gr=cv2.cvtColor(frame,cv2.COLOR_BGR2RGB)\n",
    "    writer.write(frame)\n",
    "    cv2.imshow('frame',frame)\n",
    "    if cv2.waitKey(1) & 0xFF==ord('q'):\n",
    "        break\n",
    "cap.release()\n",
    "writer.release()\n",
    "cv2.destroyAllWindows()"
   ]
  },
  {
   "cell_type": "code",
   "execution_count": 46,
   "metadata": {},
   "outputs": [],
   "source": [
    "cap=cv2.VideoCapture('myvid.mp4')\n",
    "if cap.isOpened()==False:\n",
    "    print(\"error file not found or wrong codec\")\n",
    "while cap.isOpened():\n",
    "    ret,frame=cap.read()\n",
    "    if ret==True:\n",
    "        cv2.imshow('frame',frame)\n",
    "    if cv2.waitKey(10) & 0XFF == ord('q'):\n",
    "        break;\n",
    "    else:\n",
    "        break#to break when all frames are read\n",
    "cap.release()\n",
    "cv2.destroyAllWindows()\n",
    "#this code shows video at a very high speed as it for comp and not humans"
   ]
  },
  {
   "cell_type": "code",
   "execution_count": 54,
   "metadata": {},
   "outputs": [],
   "source": [
    "\n",
    "import time"
   ]
  },
  {
   "cell_type": "code",
   "execution_count": 67,
   "metadata": {},
   "outputs": [],
   "source": [
    "cap=cv2.VideoCapture('myvid2.mp4')\n",
    "fps=25\n",
    "if cap.isOpened()==False:\n",
    "    print(\"error file not found or wrong codec\")\n",
    "while cap.isOpened():\n",
    "    ret,frame=cap.read()\n",
    "    if ret==True:\n",
    "        time.sleep(1/fps)\n",
    "        cv2.imshow('frame',frame)\n",
    "        if cv2.waitKey(2) & 0XFF == ord('q'):\n",
    "            break;\n",
    "    else:\n",
    "        break#to break when all frames are read\n",
    "cap.release()\n",
    "cv2.destroyAllWindows()"
   ]
  },
  {
   "cell_type": "code",
   "execution_count": 68,
   "metadata": {},
   "outputs": [],
   "source": [
    "#DRAW ON LIVE CAMERA\n",
    "import "
   ]
  },
  {
   "cell_type": "code",
   "execution_count": 81,
   "metadata": {},
   "outputs": [],
   "source": [
    "cap=cv2.VideoCapture(0)\n",
    "w=int(cap.get(cv2.CAP_PROP_FRAME_WIDTH))\n",
    "h=int(cap.get(cv2.CAP_PROP_FRAME_HEIGHT))\n",
    "#top left corner of rect\n",
    "x=w//2\n",
    "y=h//2\n",
    "#height and width of rect\n",
    "wr=w//2\n",
    "hr=w//2\n",
    "#bottom right\n",
    "xb=x+wr\n",
    "yb=y+hr\n",
    "while True:\n",
    "    ret,fr=cap.read()\n",
    "    #cv2.imshow('fr',fr) this wont show rect as it showssimg first and then draw\n",
    "    cv2.rectangle(fr,(x,y),(xb,yb),color=(23,56,221),thickness=4)\n",
    "    cv2.imshow('fr',fr)\n",
    "    if cv2.waitKey(1) & 0XFF==ord('q'):\n",
    "        break\n",
    "cap.release()\n",
    "cv2.destroyAllWindows()\n",
    "         "
   ]
  },
  {
   "cell_type": "code",
   "execution_count": 78,
   "metadata": {},
   "outputs": [
    {
     "data": {
      "text/plain": [
       "2"
      ]
     },
     "execution_count": 78,
     "metadata": {},
     "output_type": "execute_result"
    }
   ],
   "source": [
    "10//5\n"
   ]
  },
  {
   "cell_type": "code",
   "execution_count": 70,
   "metadata": {},
   "outputs": [
    {
     "data": {
      "text/plain": [
       "10.5"
      ]
     },
     "execution_count": 70,
     "metadata": {},
     "output_type": "execute_result"
    }
   ],
   "source": [
    "10.5"
   ]
  },
  {
   "cell_type": "code",
   "execution_count": 71,
   "metadata": {},
   "outputs": [
    {
     "data": {
      "text/plain": [
       "5.0"
      ]
     },
     "execution_count": 71,
     "metadata": {},
     "output_type": "execute_result"
    }
   ],
   "source": [
    "10/2"
   ]
  },
  {
   "cell_type": "code",
   "execution_count": 18,
   "metadata": {},
   "outputs": [],
   "source": [
    "#define a function to draw an rectangle\n",
    "def drw_rec(event,x,y,flags,param):\n",
    "    \n",
    "    global pt1,pt2,tp_l,bt_r\n",
    "\n",
    "    if event==cv2.EVENT_LBUTTONDOWN:\n",
    "        \n",
    "        if tp_l==T and bt_r==T:    #if top left clicked and bottom right clicked then reset the points      \n",
    "            pt1=(0,0)\n",
    "            pt2=(0,0)    \n",
    "            tp_l=F\n",
    "            bt_r=F;\n",
    "        if tp_l==F: #if top left clicked then draw small circle as marker and wait for bottom right to appear\n",
    "            pt1=(x,y)\n",
    "            tp_l=T\n",
    "        elif bt_r==F: #if bottom right clicked set it to be true and call cv2.rect funtion at line number 35\n",
    "            pt2=(x,y)\n",
    "            bt_r=T\n",
    "F=0\n",
    "T=1\n",
    "pt1=(0,0)\n",
    "pt2=(0,0)    \n",
    "tp_l=F\n",
    "bt_r=F\n",
    "cap=cv2.VideoCapture(0)\n",
    "## callback fun\n",
    "cv2.namedWindow('tes')\n",
    "cv2.setMouseCallback('tes',drw_rec)        \n",
    "\n",
    "while True:\n",
    "    ret,fr=cap.read()\n",
    "    if tp_l:\n",
    "        cv2.circle(fr, center=pt1, radius=5, color=(0,0,255), thickness=-1) #draw a cirlce if only left circle clicked\n",
    "    if tp_l and bt_r:\n",
    "        cv2.rectangle(fr, pt1, pt2, (0,0,255), 3)\n",
    "    cv2.imshow('tes',fr)\n",
    "    if cv2.waitKey(1) & 0XFF==ord('q'):\n",
    "        break\n",
    "cap.release()\n",
    "cv2.destroyAllWindows()"
   ]
  },
  {
   "cell_type": "code",
   "execution_count": 9,
   "metadata": {},
   "outputs": [],
   "source": [
    "\n"
   ]
  },
  {
   "cell_type": "code",
   "execution_count": null,
   "metadata": {},
   "outputs": [],
   "source": []
  }
 ],
 "metadata": {
  "kernelspec": {
   "display_name": "Python 3",
   "language": "python",
   "name": "python3"
  },
  "language_info": {
   "codemirror_mode": {
    "name": "ipython",
    "version": 3
   },
   "file_extension": ".py",
   "mimetype": "text/x-python",
   "name": "python",
   "nbconvert_exporter": "python",
   "pygments_lexer": "ipython3",
   "version": "3.6.4"
  },
  "widgets": {
   "application/vnd.jupyter.widget-state+json": {
    "state": {},
    "version_major": 2,
    "version_minor": 0
   }
  }
 },
 "nbformat": 4,
 "nbformat_minor": 2
}
